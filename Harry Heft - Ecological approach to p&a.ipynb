{
 "cells": [
  {
   "cell_type": "markdown",
   "metadata": {
    "slideshow": {
     "slide_type": "slide"
    }
   },
   "source": [
    "# Harry Heft\n",
    "\n",
    "The Ecological approach to perception (after JJ Gibson)\n",
    "https://www.youtube.com/watch?v=k4fKBqu-Ris"
   ]
  },
  {
   "cell_type": "markdown",
   "metadata": {
    "slideshow": {
     "slide_type": "slide"
    }
   },
   "source": [
    "## Ubiquitous properties of environments\n",
    "\n",
    "- surround the individual and are extended\n",
    "- structured; invariant, not amorphous, variation, nested\n",
    "- substances (matter), surfaces (boundary between object and medium) and within medium"
   ]
  },
  {
   "cell_type": "markdown",
   "metadata": {},
   "source": [
    "## Organisms\n",
    "\n",
    "- active (agency)\n",
    "- mobile\n",
    "- perceiving operates in the service of action (get resources); why perceiving (altogether)?"
   ]
  },
  {
   "cell_type": "markdown",
   "metadata": {},
   "source": [
    "Information is not \"out there\", but is revealed through action\n",
    "Information is relational; it only flow if there is movement; it disappears the moment movement stops"
   ]
  },
  {
   "cell_type": "code",
   "execution_count": null,
   "metadata": {
    "collapsed": true
   },
   "outputs": [],
   "source": [
    "Flow pattern"
   ]
  }
 ],
 "metadata": {
  "celltoolbar": "Slideshow",
  "kernelspec": {
   "display_name": "Python 2",
   "language": "python",
   "name": "python2"
  },
  "language_info": {
   "codemirror_mode": {
    "name": "ipython",
    "version": 2
   },
   "file_extension": ".py",
   "mimetype": "text/x-python",
   "name": "python",
   "nbconvert_exporter": "python",
   "pygments_lexer": "ipython2",
   "version": "2.7.9"
  }
 },
 "nbformat": 4,
 "nbformat_minor": 0
}
